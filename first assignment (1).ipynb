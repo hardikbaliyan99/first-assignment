{
  "metadata": {
    "kernelspec": {
      "name": "python",
      "display_name": "Python (Pyodide)",
      "language": "python"
    },
    "language_info": {
      "codemirror_mode": {
        "name": "python",
        "version": 3
      },
      "file_extension": ".py",
      "mimetype": "text/x-python",
      "name": "python",
      "nbconvert_exporter": "python",
      "pygments_lexer": "ipython3",
      "version": "3.8"
    }
  },
  "nbformat_minor": 4,
  "nbformat": 4,
  "cells": [
    {
      "cell_type": "markdown",
      "source": "<span style=\"font-size :  30px\">Explain the key feature of python that makes ita popular choice of programming</span>\n",
      "metadata": {}
    },
    {
      "cell_type": "markdown",
      "source": "### = Easy to learn syntex",
      "metadata": {}
    },
    {
      "cell_type": "markdown",
      "source": "### = high level language",
      "metadata": {}
    },
    {
      "cell_type": "markdown",
      "source": "### = large standard liberary",
      "metadata": {}
    },
    {
      "cell_type": "markdown",
      "source": "### = dynamic typing",
      "metadata": {}
    },
    {
      "cell_type": "markdown",
      "source": "### = cross platform compartibility",
      "metadata": {}
    },
    {
      "cell_type": "markdown",
      "source": "### = rapid development",
      "metadata": {}
    },
    {
      "cell_type": "markdown",
      "source": "### = extensive liberaries and frameworks",
      "metadata": {}
    },
    {
      "cell_type": "markdown",
      "source": "## These features combined make python a popular choice for programming,appleaing to both begginers and experience developers.",
      "metadata": {}
    },
    {
      "cell_type": "code",
      "source": "",
      "metadata": {
        "trusted": true
      },
      "outputs": [],
      "execution_count": null
    },
    {
      "cell_type": "markdown",
      "source": "# Describe the role of predifined keywords in python and provide exammple of how they are used in a programe",
      "metadata": {}
    },
    {
      "cell_type": "markdown",
      "source": "### = Python keywords are some predifined and reserved words in python that have special meaning.Keywords in python and written in lowercase except true and false.",
      "metadata": {}
    },
    {
      "cell_type": "markdown",
      "source": "## Examples are:-",
      "metadata": {}
    },
    {
      "cell_type": "markdown",
      "source": "## 1. and",
      "metadata": {}
    },
    {
      "cell_type": "markdown",
      "source": "## 2.true/false",
      "metadata": {}
    },
    {
      "cell_type": "markdown",
      "source": "## 3.none",
      "metadata": {}
    },
    {
      "cell_type": "markdown",
      "source": "## 4.await",
      "metadata": {}
    },
    {
      "cell_type": "markdown",
      "source": "## 5.in",
      "metadata": {}
    },
    {
      "cell_type": "markdown",
      "source": "## 6.from",
      "metadata": {}
    },
    {
      "cell_type": "raw",
      "source": "",
      "metadata": {}
    },
    {
      "cell_type": "markdown",
      "source": "# Compare and contrast mutable and immutale objects in python with examples",
      "metadata": {}
    },
    {
      "cell_type": "markdown",
      "source": "## Mutable ",
      "metadata": {}
    },
    {
      "cell_type": "markdown",
      "source": "### the obejct can be modified after the creation as well",
      "metadata": {}
    },
    {
      "cell_type": "markdown",
      "source": "### classes that are muutable are not considered final",
      "metadata": {}
    },
    {
      "cell_type": "markdown",
      "source": "### thread unsafe",
      "metadata": {}
    },
    {
      "cell_type": "markdown",
      "source": "## example",
      "metadata": {}
    },
    {
      "cell_type": "code",
      "source": "#list are mutable\nmy_list = (1,2,3)\nprint(my_list)",
      "metadata": {
        "trusted": true
      },
      "outputs": [
        {
          "name": "stdout",
          "text": "(1, 2, 3)\n",
          "output_type": "stream"
        }
      ],
      "execution_count": 23
    },
    {
      "cell_type": "code",
      "source": "# sets are mutable\nmy_sets = (1,2,3)\nprint(my_sets)",
      "metadata": {
        "trusted": true
      },
      "outputs": [
        {
          "name": "stdout",
          "text": "(1, 2, 3)\n",
          "output_type": "stream"
        }
      ],
      "execution_count": 24
    },
    {
      "cell_type": "code",
      "source": "",
      "metadata": {
        "trusted": true
      },
      "outputs": [],
      "execution_count": null
    },
    {
      "cell_type": "markdown",
      "source": "## Immutable",
      "metadata": {}
    },
    {
      "cell_type": "code",
      "source": "# strings are immutable\nmy_string = (hello)\nmy_string(0) = (j)       # this will raise as a type error",
      "metadata": {
        "trusted": true
      },
      "outputs": [
        {
          "ename": "<class 'SyntaxError'>",
          "evalue": "cannot assign to function call here. Maybe you meant '==' instead of '='? (<ipython-input-29-052fb9c2e732>, line 3)",
          "traceback": [
            "\u001b[0;36m  Cell \u001b[0;32mIn[29], line 3\u001b[0;36m\u001b[0m\n\u001b[0;31m    my_string(0) = (j)\u001b[0m\n\u001b[0m    ^\u001b[0m\n\u001b[0;31mSyntaxError\u001b[0m\u001b[0;31m:\u001b[0m cannot assign to function call here. Maybe you meant '==' instead of '='?\n"
          ],
          "output_type": "error"
        }
      ],
      "execution_count": 29
    },
    {
      "cell_type": "code",
      "source": "# tuple is immutable\nmy_tuple = (1,2,3)\nmy_tuple(0) = 4       # this will raise as type error",
      "metadata": {
        "trusted": true
      },
      "outputs": [
        {
          "ename": "<class 'SyntaxError'>",
          "evalue": "cannot assign to function call here. Maybe you meant '==' instead of '='? (<ipython-input-30-d4f04213526d>, line 3)",
          "traceback": [
            "\u001b[0;36m  Cell \u001b[0;32mIn[30], line 3\u001b[0;36m\u001b[0m\n\u001b[0;31m    my_tuple(0) = 4\u001b[0m\n\u001b[0m    ^\u001b[0m\n\u001b[0;31mSyntaxError\u001b[0m\u001b[0;31m:\u001b[0m cannot assign to function call here. Maybe you meant '==' instead of '='?\n"
          ],
          "output_type": "error"
        }
      ],
      "execution_count": 30
    },
    {
      "cell_type": "code",
      "source": "\n\n\n",
      "metadata": {
        "trusted": true
      },
      "outputs": [],
      "execution_count": null
    },
    {
      "cell_type": "markdown",
      "source": "# Discuss the different type of operators in python and provide examples of how they are used",
      "metadata": {}
    },
    {
      "cell_type": "markdown",
      "source": "##  python language support various types of operators, whiich are:",
      "metadata": {}
    },
    {
      "cell_type": "markdown",
      "source": "### arithmetic operator \n",
      "metadata": {}
    },
    {
      "cell_type": "markdown",
      "source": "### comperison operator",
      "metadata": {}
    },
    {
      "cell_type": "markdown",
      "source": "### assignment operator",
      "metadata": {}
    },
    {
      "cell_type": "markdown",
      "source": "### logic operator",
      "metadata": {}
    },
    {
      "cell_type": "markdown",
      "source": "### bitwise operator",
      "metadata": {}
    },
    {
      "cell_type": "markdown",
      "source": "### membership operator",
      "metadata": {}
    },
    {
      "cell_type": "markdown",
      "source": "### identity operator",
      "metadata": {}
    },
    {
      "cell_type": "markdown",
      "source": "## example",
      "metadata": {}
    },
    {
      "cell_type": "markdown",
      "source": "### arthematic operator",
      "metadata": {}
    },
    {
      "cell_type": "code",
      "source": "a= 10\nb= 23\n#addition\nprint(a+b)",
      "metadata": {
        "trusted": true
      },
      "outputs": [
        {
          "name": "stdout",
          "text": "33\n",
          "output_type": "stream"
        }
      ],
      "execution_count": 31
    },
    {
      "cell_type": "code",
      "source": "a=20\nb=23\n#subtraction\nprint(a-b)",
      "metadata": {
        "trusted": true
      },
      "outputs": [
        {
          "name": "stdout",
          "text": "-3\n",
          "output_type": "stream"
        }
      ],
      "execution_count": 32
    },
    {
      "cell_type": "code",
      "source": "a=32\nb=32\n#multiplication\nprint( a*b)",
      "metadata": {
        "trusted": true
      },
      "outputs": [
        {
          "name": "stdout",
          "text": "1024\n",
          "output_type": "stream"
        }
      ],
      "execution_count": 33
    },
    {
      "cell_type": "code",
      "source": "a=32\nb=33\n#division\nprint(a/b)",
      "metadata": {
        "trusted": true
      },
      "outputs": [
        {
          "name": "stdout",
          "text": "0.9696969696969697\n",
          "output_type": "stream"
        }
      ],
      "execution_count": 52
    },
    {
      "cell_type": "code",
      "source": "a=43\nb=32\n#modulus\nprint(a%b)",
      "metadata": {
        "trusted": true
      },
      "outputs": [
        {
          "name": "stdout",
          "text": "11\n",
          "output_type": "stream"
        }
      ],
      "execution_count": 51
    },
    {
      "cell_type": "code",
      "source": "a=10\nb=20\n#floor divison\nprint(a/b)",
      "metadata": {
        "trusted": true
      },
      "outputs": [
        {
          "name": "stdout",
          "text": "0.5\n",
          "output_type": "stream"
        }
      ],
      "execution_count": 50
    },
    {
      "cell_type": "code",
      "source": "",
      "metadata": {
        "trusted": true
      },
      "outputs": [],
      "execution_count": null
    },
    {
      "cell_type": "markdown",
      "source": "## comperison operator ",
      "metadata": {}
    },
    {
      "cell_type": "code",
      "source": "a=2\nb=3\n#equal\nprint(a==b)",
      "metadata": {
        "trusted": true
      },
      "outputs": [
        {
          "name": "stdout",
          "text": "False\n",
          "output_type": "stream"
        }
      ],
      "execution_count": 49
    },
    {
      "cell_type": "code",
      "source": "a=33\nb=55\n#not equal\nprint(a !=b)",
      "metadata": {
        "trusted": true
      },
      "outputs": [
        {
          "name": "stdout",
          "text": "True\n",
          "output_type": "stream"
        }
      ],
      "execution_count": 42
    },
    {
      "cell_type": "code",
      "source": "a=2\nb=3\n#greater then\nprint(a>b)",
      "metadata": {
        "trusted": true
      },
      "outputs": [
        {
          "name": "stdout",
          "text": "False\n",
          "output_type": "stream"
        }
      ],
      "execution_count": 48
    },
    {
      "cell_type": "code",
      "source": "\n",
      "metadata": {
        "trusted": true
      },
      "outputs": [],
      "execution_count": null
    },
    {
      "cell_type": "code",
      "source": "",
      "metadata": {
        "trusted": true
      },
      "outputs": [],
      "execution_count": null
    },
    {
      "cell_type": "markdown",
      "source": "## assignment operator\n",
      "metadata": {}
    },
    {
      "cell_type": "code",
      "source": "a= 5\n#assignment \n",
      "metadata": {
        "trusted": true
      },
      "outputs": [],
      "execution_count": 44
    },
    {
      "cell_type": "code",
      "source": "a+= 5\nprint(a+=5;a)",
      "metadata": {
        "trusted": true
      },
      "outputs": [
        {
          "ename": "<class 'SyntaxError'>",
          "evalue": "invalid syntax (<ipython-input-55-a523531ad1d4>, line 2)",
          "traceback": [
            "\u001b[0;36m  Cell \u001b[0;32mIn[55], line 2\u001b[0;36m\u001b[0m\n\u001b[0;31m    print(a+=5;a)\u001b[0m\n\u001b[0m           ^\u001b[0m\n\u001b[0;31mSyntaxError\u001b[0m\u001b[0;31m:\u001b[0m invalid syntax\n"
          ],
          "output_type": "error"
        }
      ],
      "execution_count": 55
    },
    {
      "cell_type": "code",
      "source": "a*=7\nprint(a*=7)",
      "metadata": {
        "trusted": true
      },
      "outputs": [
        {
          "ename": "<class 'SyntaxError'>",
          "evalue": "invalid syntax (<ipython-input-56-dcf7cdd7f6eb>, line 2)",
          "traceback": [
            "\u001b[0;36m  Cell \u001b[0;32mIn[56], line 2\u001b[0;36m\u001b[0m\n\u001b[0;31m    print(a*=7)\u001b[0m\n\u001b[0m           ^\u001b[0m\n\u001b[0;31mSyntaxError\u001b[0m\u001b[0;31m:\u001b[0m invalid syntax\n"
          ],
          "output_type": "error"
        }
      ],
      "execution_count": 56
    },
    {
      "cell_type": "code",
      "source": "",
      "metadata": {
        "trusted": true
      },
      "outputs": [],
      "execution_count": null
    },
    {
      "cell_type": "markdown",
      "source": "## bitwise operator",
      "metadata": {}
    },
    {
      "cell_type": "code",
      "source": "a= 54 # 45 = 333000\nb= 45 # 45 = 230000\n# binary end\n",
      "metadata": {
        "trusted": true
      },
      "outputs": [],
      "execution_count": 63
    },
    {
      "cell_type": "code",
      "source": "c = a&b #46 = 0010002\nprint(a&b )\n# binary or",
      "metadata": {
        "trusted": true
      },
      "outputs": [
        {
          "name": "stdout",
          "text": "36\n",
          "output_type": "stream"
        }
      ],
      "execution_count": 67
    },
    {
      "cell_type": "code",
      "source": "c+a | b # 34 = 440000\nprint( a|b)",
      "metadata": {
        "trusted": true
      },
      "outputs": [
        {
          "name": "stdout",
          "text": "63\n",
          "output_type": "stream"
        }
      ],
      "execution_count": 68
    },
    {
      "cell_type": "markdown",
      "source": "## logic operator\n",
      "metadata": {}
    },
    {
      "cell_type": "code",
      "source": "x=3\ny=9\nif x>1 and y<12\nprint( both x and y are within specified range)",
      "metadata": {
        "trusted": true
      },
      "outputs": [
        {
          "ename": "<class 'SyntaxError'>",
          "evalue": "expected ':' (<ipython-input-70-88164d24d5d3>, line 3)",
          "traceback": [
            "\u001b[0;36m  Cell \u001b[0;32mIn[70], line 3\u001b[0;36m\u001b[0m\n\u001b[0;31m    if x>1 and y<12\u001b[0m\n\u001b[0m                   ^\u001b[0m\n\u001b[0;31mSyntaxError\u001b[0m\u001b[0;31m:\u001b[0m expected ':'\n"
          ],
          "output_type": "error"
        }
      ],
      "execution_count": 70
    },
    {
      "cell_type": "code",
      "source": "",
      "metadata": {
        "trusted": true
      },
      "outputs": [],
      "execution_count": null
    },
    {
      "cell_type": "code",
      "source": "",
      "metadata": {
        "trusted": true
      },
      "outputs": [],
      "execution_count": null
    },
    {
      "cell_type": "markdown",
      "source": "# Explain the concept of type casting in python with examples.",
      "metadata": {}
    },
    {
      "cell_type": "markdown",
      "source": "### implicit type castiing",
      "metadata": {}
    },
    {
      "cell_type": "markdown",
      "source": "### in python we use predifined function like int() str() float() boo() etc to perform expilict type of conversation",
      "metadata": {}
    },
    {
      "cell_type": "code",
      "source": "def addition (a,b)\nprint (type of first number (a) : type(a)\nprint(type of second number (b) : type(b)\nc =a+b\nprint(type of resulting variable (c)  : type(c)\naddition (21,22)    #both integers\nprint(\\n)\naddition(32,23.0) # second being float",
      "metadata": {
        "trusted": true
      },
      "outputs": [
        {
          "ename": "<class 'SyntaxError'>",
          "evalue": "expected ':' (<ipython-input-72-188bcd9f9a21>, line 1)",
          "traceback": [
            "\u001b[0;36m  Cell \u001b[0;32mIn[72], line 1\u001b[0;36m\u001b[0m\n\u001b[0;31m    def addition (a,b)\u001b[0m\n\u001b[0m                      ^\u001b[0m\n\u001b[0;31mSyntaxError\u001b[0m\u001b[0;31m:\u001b[0m expected ':'\n"
          ],
          "output_type": "error"
        }
      ],
      "execution_count": 72
    },
    {
      "cell_type": "markdown",
      "source": "## explicit type 2",
      "metadata": {}
    },
    {
      "cell_type": "code",
      "source": "addition(a,b)\nprint(type first number(a)   : type(a)\nprint( type second number(b) : type(b)\nc= a+b\nprint(type of resulting variation(c)  : type(c)\nprint(accept input from the user)\nprint( enter first nmber)\nnum1 = input()\nnm2 = input()",
      "metadata": {
        "trusted": true
      },
      "outputs": [],
      "execution_count": null
    },
    {
      "cell_type": "markdown",
      "source": "## explicit type 3",
      "metadata": {}
    },
    {
      "cell_type": "code",
      "source": "print(converting to iinteger type)\nprint(1:converting to integer type)\nprint(int(8.3) #float false\nprint( int(true)  #bool to int\n print(123) # str to int\n      print(\\n)\n #2 converting to float type using float\n      print( float(12) \n  print(float (false)\n        print(float(123)\n              print(\\n)\n              \n  #3 converting to bool type sing bool\n              print(bool(12) # integer bool\n                    print(bool(32.44)   # float to bool\n                          print(bool(1,2,3)\n                                print(\\n0\n                                      \n             #4 convering to string type using str()\n                 print(str(123)   # integer to strng\n                  print(str(34.3)    # float to string\n                      print(str(23.50.90)) #list to string   ",
      "metadata": {
        "trusted": true,
        "tags": [],
        "editable": true,
        "slideshow": {
          "slide_type": ""
        }
      },
      "outputs": [],
      "execution_count": null
    },
    {
      "cell_type": "markdown",
      "source": "# ",
      "metadata": {}
    },
    {
      "cell_type": "markdown",
      "source": "# How do the condition statemments work in python? illustrate with example\n",
      "metadata": {}
    },
    {
      "cell_type": "markdown",
      "source": "## if the condition is tre the code block indented below the if statement will be execuuted .iif the condition is false the code block will be skipped .",
      "metadata": {}
    },
    {
      "cell_type": "code",
      "source": "num = 5\n\nif num > 0 :\nprint(the number is positive)\n",
      "metadata": {
        "trusted": true
      },
      "outputs": [
        {
          "ename": "<class 'IndentationError'>",
          "evalue": "expected an indented block after 'if' statement on line 3 (<ipython-input-6-78c52e131cf1>, line 4)",
          "traceback": [
            "\u001b[0;36m  Cell \u001b[0;32mIn[6], line 4\u001b[0;36m\u001b[0m\n\u001b[0;31m    print(the number is positive)\u001b[0m\n\u001b[0m    ^\u001b[0m\n\u001b[0;31mIndentationError\u001b[0m\u001b[0;31m:\u001b[0m expected an indented block after 'if' statement on line 3\n"
          ],
          "output_type": "error"
        }
      ],
      "execution_count": 6
    },
    {
      "cell_type": "markdown",
      "source": "###  in this example we use the > perator to compare the value of num to 0 if num is greater than 0 the code block indented below the if statement will be exectedd and the message 'number is posiitive will be printed",
      "metadata": {}
    },
    {
      "cell_type": "markdown",
      "source": "## use the elif statement in python",
      "metadata": {}
    },
    {
      "cell_type": "code",
      "source": "num = 0\nif num > 0 :\nprint( the num is positive)\nelif num<",
      "metadata": {
        "trusted": true
      },
      "outputs": [
        {
          "ename": "<class 'IndentationError'>",
          "evalue": "expected an indented block after 'if' statement on line 2 (<ipython-input-7-b34cbbbb9a15>, line 3)",
          "traceback": [
            "\u001b[0;36m  Cell \u001b[0;32mIn[7], line 3\u001b[0;36m\u001b[0m\n\u001b[0;31m    print( the num is positive)\u001b[0m\n\u001b[0m    ^\u001b[0m\n\u001b[0;31mIndentationError\u001b[0m\u001b[0;31m:\u001b[0m expected an indented block after 'if' statement on line 2\n"
          ],
          "output_type": "error"
        }
      ],
      "execution_count": 7
    },
    {
      "cell_type": "markdown",
      "source": "## use the else statement ",
      "metadata": {}
    },
    {
      "cell_type": "code",
      "source": "num = -6\n\nif num> 0:\n    print( the number is positive)\n    else :\n    print(the num is negative)\n",
      "metadata": {
        "trusted": true
      },
      "outputs": [
        {
          "ename": "<class 'SyntaxError'>",
          "evalue": "invalid syntax. Perhaps you forgot a comma? (<ipython-input-8-d815c12e9ccb>, line 4)",
          "traceback": [
            "\u001b[0;36m  Cell \u001b[0;32mIn[8], line 4\u001b[0;36m\u001b[0m\n\u001b[0;31m    print( the number is positive)\u001b[0m\n\u001b[0m           ^\u001b[0m\n\u001b[0;31mSyntaxError\u001b[0m\u001b[0;31m:\u001b[0m invalid syntax. Perhaps you forgot a comma?\n"
          ],
          "output_type": "error"
        }
      ],
      "execution_count": 8
    },
    {
      "cell_type": "markdown",
      "source": "## conclusion",
      "metadata": {}
    },
    {
      "cell_type": "markdown",
      "source": "### condition statement (if, else,and elif) are fundamental pragramming construct vthat allow ypu to control the flow of your program based on condition that make decisiion in your programe andc execute different code on these decision",
      "metadata": {}
    },
    {
      "cell_type": "code",
      "source": "",
      "metadata": {
        "trusted": true
      },
      "outputs": [],
      "execution_count": null
    },
    {
      "cell_type": "markdown",
      "source": "# Describe the different types of loops in python and their use cases with example",
      "metadata": {}
    },
    {
      "cell_type": "markdown",
      "source": "## type of loop",
      "metadata": {}
    },
    {
      "cell_type": "markdown",
      "source": "### for loop - a for loop in python iis used to iterate over a seqence (list,tuple,string,dictionary) or anyy iterable  object.",
      "metadata": {}
    },
    {
      "cell_type": "code",
      "source": "number= (1,2,3,4) '\nfor number in number : \n    print(number)\n    ",
      "metadata": {
        "trusted": true
      },
      "outputs": [
        {
          "ename": "<class 'SyntaxError'>",
          "evalue": "unterminated string literal (detected at line 1) (<ipython-input-9-cad1caa42dcd>, line 1)",
          "traceback": [
            "\u001b[0;36m  Cell \u001b[0;32mIn[9], line 1\u001b[0;36m\u001b[0m\n\u001b[0;31m    number= (1,2,3,4) '\u001b[0m\n\u001b[0m                      ^\u001b[0m\n\u001b[0;31mSyntaxError\u001b[0m\u001b[0;31m:\u001b[0m unterminated string literal (detected at line 1)\n"
          ],
          "output_type": "error"
        }
      ],
      "execution_count": 9
    },
    {
      "cell_type": "markdown",
      "source": "### while loop - purpose repeat a block of code as long as a speciified condition remains true syntax.\n",
      "metadata": {}
    },
    {
      "cell_type": "code",
      "source": "count = 0\nwhile count<5:\n    print( count)\n    count += 1",
      "metadata": {
        "trusted": true
      },
      "outputs": [
        {
          "name": "stdout",
          "text": "0\n1\n2\n3\n4\n",
          "output_type": "stream"
        }
      ],
      "execution_count": 10
    },
    {
      "cell_type": "markdown",
      "source": "### nested loop - if a loop exist inside the body of another loop it is called a nested loop",
      "metadata": {}
    },
    {
      "cell_type": "code",
      "source": "x = ( 3,3)\ny = (1,5)",
      "metadata": {
        "trusted": true
      },
      "outputs": [],
      "execution_count": null
    }
  ]
}